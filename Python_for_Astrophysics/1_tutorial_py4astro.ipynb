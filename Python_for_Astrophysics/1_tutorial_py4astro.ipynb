{
  "cells": [
    {
      "cell_type": "markdown",
      "metadata": {
        "id": "view-in-github",
        "colab_type": "text"
      },
      "source": [
        "<a href=\"https://colab.research.google.com/github/Mariannly/ISYA2025/blob/main/Python_for_Astrophysics/1_tutorial_py4astro.ipynb\" target=\"_parent\"><img src=\"https://colab.research.google.com/assets/colab-badge.svg\" alt=\"Open In Colab\"/></a>"
      ]
    },
    {
      "cell_type": "markdown",
      "metadata": {
        "id": "Xsr99Z-Lll-k"
      },
      "source": [
        "# Linux on Google Colab - Mariannly's version\n",
        "\n",
        "In this lecture, we will use Google Colab to execute some basic Linux and Python commands.\n",
        "\n",
        "The aim of the lecture is to carry out some basic plotting in 1D and 2D to illustrate the usage of Google Colab. For this, we need to:\n",
        "\n",
        "1. Log into our Google accounts.\n",
        "2. Open a Google Colab notebook.\n",
        "3. Edit the name of the notebook.\n",
        "4. Start adding text and code cells.\n",
        "5. Execute the code.\n",
        "\n",
        "## Remote (Google) server connection\n",
        "\n",
        "Google Colab allows us to access remote Linux servers owned by Google, where python is already installed. With Google Colab we can acess such servers via a browser, and this means we do not need to have python installed in our laptops/PCs to use it.\n",
        "\n",
        "The disadvantage is that we are bound to the RAM memory and disc space available in the remote server. For short programming tasks and small computing loads, this is not a problem, but this could be a limitation if we are doing heavy computing, e.g. if we are analysing large data sets.\n",
        "\n",
        "Thus, in the long term, I recommend installing your own versions of python (e.g. via Conda https://www.anaconda.com).\n",
        "\n",
        "## Jupyter notebooks\n",
        "\n",
        "- Jupyter notebooks are interactive digital scrapbooks for code and notes. They let you interact with your code instantly.\n",
        "\n",
        "- Ideal for homework that involves math, astro, physics, and programming.\n",
        "\n",
        "- Notebooks are web-based document where you can write code, see the results and plots, and add text (like explanations or comments).\n",
        "\n",
        "## Kernels\n",
        "\n",
        "- Kernels are the **engine** that runs the code in your notebook. Think of it as the brain behind the operations.\n",
        "\n",
        "- Each kernel understands a different programming language (like Python, R, or Julia).\n",
        "\n",
        "- When you run a code cell, the kernel executes it and sends the answer back to your notebook.\n",
        "\n",
        "\n",
        "## Linux commands:\n",
        "\n",
        "\n",
        "We can use bash commands in a jupyter notebook with \"!\" e.g. The command **pwd** is used to check where we are in the Linux system. Note that / stands for 'root', which is the main directory on Linux machines. In other cases, 'root' can also refer to the **superuser** of a Linux environment. A superuser has permissions to carry out any changes in the system."
      ]
    },
    {
      "cell_type": "code",
      "execution_count": 1,
      "metadata": {
        "colab": {
          "base_uri": "https://localhost:8080/"
        },
        "id": "LvzyJEDzj6nc",
        "outputId": "095d61b4-2a2b-495d-d610-a41318a87d82"
      },
      "outputs": [
        {
          "output_type": "stream",
          "name": "stdout",
          "text": [
            "/content\n"
          ]
        }
      ],
      "source": [
        "!pwd"
      ]
    },
    {
      "cell_type": "markdown",
      "source": [
        "### Check Linux kernel information:"
      ],
      "metadata": {
        "id": "UIbKuqnJHQeY"
      }
    },
    {
      "cell_type": "code",
      "source": [
        "!uname -a"
      ],
      "metadata": {
        "colab": {
          "base_uri": "https://localhost:8080/"
        },
        "id": "R9XG0RcWHUDe",
        "outputId": "e3871848-4bf7-4852-826b-20bcc6f02b74"
      },
      "execution_count": 2,
      "outputs": [
        {
          "output_type": "stream",
          "name": "stdout",
          "text": [
            "Linux e07164d11496 6.1.123+ #1 SMP PREEMPT_DYNAMIC Sun Mar 30 16:01:29 UTC 2025 x86_64 x86_64 x86_64 GNU/Linux\n"
          ]
        }
      ]
    },
    {
      "cell_type": "markdown",
      "source": [
        "### Release version:"
      ],
      "metadata": {
        "id": "XHBoIlsiIgKB"
      }
    },
    {
      "cell_type": "code",
      "source": [
        "!lsb_release -a"
      ],
      "metadata": {
        "colab": {
          "base_uri": "https://localhost:8080/"
        },
        "id": "MwInrcwlIoLx",
        "outputId": "277c2627-e5eb-4f28-e3d0-55b356bdfafe"
      },
      "execution_count": 3,
      "outputs": [
        {
          "output_type": "stream",
          "name": "stdout",
          "text": [
            "No LSB modules are available.\n",
            "Distributor ID:\tUbuntu\n",
            "Description:\tUbuntu 22.04.4 LTS\n",
            "Release:\t22.04\n",
            "Codename:\tjammy\n"
          ]
        }
      ]
    },
    {
      "cell_type": "code",
      "source": [
        "!cat /etc/os-release"
      ],
      "metadata": {
        "colab": {
          "base_uri": "https://localhost:8080/"
        },
        "id": "BItUZ-O_IiEt",
        "outputId": "3e6fdd03-c79f-4af8-c400-bb37fc314616"
      },
      "execution_count": 4,
      "outputs": [
        {
          "output_type": "stream",
          "name": "stdout",
          "text": [
            "PRETTY_NAME=\"Ubuntu 22.04.4 LTS\"\n",
            "NAME=\"Ubuntu\"\n",
            "VERSION_ID=\"22.04\"\n",
            "VERSION=\"22.04.4 LTS (Jammy Jellyfish)\"\n",
            "VERSION_CODENAME=jammy\n",
            "ID=ubuntu\n",
            "ID_LIKE=debian\n",
            "HOME_URL=\"https://www.ubuntu.com/\"\n",
            "SUPPORT_URL=\"https://help.ubuntu.com/\"\n",
            "BUG_REPORT_URL=\"https://bugs.launchpad.net/ubuntu/\"\n",
            "PRIVACY_POLICY_URL=\"https://www.ubuntu.com/legal/terms-and-policies/privacy-policy\"\n",
            "UBUNTU_CODENAME=jammy\n"
          ]
        }
      ]
    },
    {
      "cell_type": "markdown",
      "source": [
        "### Remote disc usage:"
      ],
      "metadata": {
        "id": "-EXo9u9OHele"
      }
    },
    {
      "cell_type": "code",
      "source": [
        "!df -h"
      ],
      "metadata": {
        "colab": {
          "base_uri": "https://localhost:8080/"
        },
        "id": "krE1UYgqHgla",
        "outputId": "6807d2fa-a35c-4697-a56f-57d7e0a9448f"
      },
      "execution_count": 5,
      "outputs": [
        {
          "output_type": "stream",
          "name": "stdout",
          "text": [
            "Filesystem      Size  Used Avail Use% Mounted on\n",
            "overlay         108G   38G   71G  35% /\n",
            "tmpfs            64M     0   64M   0% /dev\n",
            "shm             5.8G     0  5.8G   0% /dev/shm\n",
            "/dev/root       2.0G  1.2G  775M  61% /usr/sbin/docker-init\n",
            "tmpfs           6.4G  260K  6.4G   1% /var/colab\n",
            "/dev/sda1        73G   39G   35G  54% /kaggle/input\n",
            "tmpfs           6.4G     0  6.4G   0% /proc/acpi\n",
            "tmpfs           6.4G     0  6.4G   0% /proc/scsi\n",
            "tmpfs           6.4G     0  6.4G   0% /sys/firmware\n"
          ]
        }
      ]
    },
    {
      "cell_type": "markdown",
      "source": [
        "### List files:"
      ],
      "metadata": {
        "id": "hDWj_9VgHo5b"
      }
    },
    {
      "cell_type": "code",
      "source": [
        "!ls -l"
      ],
      "metadata": {
        "colab": {
          "base_uri": "https://localhost:8080/"
        },
        "id": "axks_0jMHrBu",
        "outputId": "0ad75efe-78ca-453b-a73b-bbcab1da7dff"
      },
      "execution_count": 6,
      "outputs": [
        {
          "output_type": "stream",
          "name": "stdout",
          "text": [
            "total 4\n",
            "drwxr-xr-x 1 root root 4096 Jul  7 19:55 sample_data\n"
          ]
        }
      ]
    },
    {
      "cell_type": "markdown",
      "source": [
        "### Linux filesystem structure:"
      ],
      "metadata": {
        "id": "r1MdbKzXIt1Y"
      }
    },
    {
      "cell_type": "code",
      "source": [
        "!ls -ltr /"
      ],
      "metadata": {
        "colab": {
          "base_uri": "https://localhost:8080/"
        },
        "id": "XPpryQxiIxB1",
        "outputId": "72f11149-fee8-44c5-94f6-6526c0aac432"
      },
      "execution_count": 7,
      "outputs": [
        {
          "output_type": "stream",
          "name": "stdout",
          "text": [
            "total 448\n",
            "-r-xr-xr-x   1 root root 346012 Jan  1  2000 python-apt.tar.xz\n",
            "drwxr-xr-x   2 root root   4096 Apr 18  2022 home\n",
            "drwxr-xr-x   2 root root   4096 Apr 18  2022 boot\n",
            "lrwxrwxrwx   1 root root      8 Jun 27  2024 sbin -> usr/sbin\n",
            "lrwxrwxrwx   1 root root     10 Jun 27  2024 libx32 -> usr/libx32\n",
            "lrwxrwxrwx   1 root root      9 Jun 27  2024 lib64 -> usr/lib64\n",
            "lrwxrwxrwx   1 root root      9 Jun 27  2024 lib32 -> usr/lib32\n",
            "lrwxrwxrwx   1 root root      7 Jun 27  2024 lib -> usr/lib\n",
            "lrwxrwxrwx   1 root root      7 Jun 27  2024 bin -> usr/bin\n",
            "drwxr-xr-x   2 root root   4096 Jun 27  2024 srv\n",
            "drwxr-xr-x   2 root root   4096 Jun 27  2024 mnt\n",
            "drwxr-xr-x   2 root root   4096 Jun 27  2024 media\n",
            "-rw-r--r--   1 root root  17294 Jul 10  2024 NGC-DL-CONTAINER-LICENSE\n",
            "-rw-r--r--   1 root root   4332 Jul 10  2024 cuda-keyring_1.1-1_all.deb\n",
            "drwxr-xr-x   1 root root   4096 Jul  7 19:33 run\n",
            "drwxrwxr-x  14 root root   4096 Jul  7 19:39 python-apt\n",
            "drwxr-xr-x   1 root root   4096 Jul  7 19:54 content\n",
            "drwxr-xr-x   1 root root   4096 Jul  7 20:10 tools\n",
            "drwxr-xr-x   1 root root   4096 Jul  7 20:11 datalab\n",
            "drwxr-xr-x   1 root root   4096 Jul  7 20:11 var\n",
            "drwxr-xr-x   1 root root   4096 Jul  7 20:12 usr\n",
            "drwxr-xr-x   1 root root   4096 Jul  7 20:30 opt\n",
            "drwxr-xr-x   1 root root   4096 Jul  8 20:21 etc\n",
            "dr-xr-xr-x  13 root root      0 Jul  8 20:21 sys\n",
            "dr-xr-xr-x 191 root root      0 Jul  8 20:21 proc\n",
            "drwxr-xr-x   3 root root   4096 Jul  8 20:21 kaggle\n",
            "drwxr-xr-x   5 root root    360 Jul  8 20:21 dev\n",
            "drwx------   1 root root   4096 Jul  8 20:22 root\n",
            "drwxrwxrwt   1 root root   4096 Jul  8 20:26 tmp\n"
          ]
        }
      ]
    },
    {
      "cell_type": "markdown",
      "metadata": {
        "id": "HR5kvTirDYct"
      },
      "source": [
        "We can check the version of python installes on the server via:"
      ]
    },
    {
      "cell_type": "code",
      "execution_count": 8,
      "metadata": {
        "colab": {
          "base_uri": "https://localhost:8080/"
        },
        "id": "x13K-7PtmUig",
        "outputId": "8b2e160e-9b20-4a34-9e8f-333b329002a8"
      },
      "outputs": [
        {
          "output_type": "stream",
          "name": "stdout",
          "text": [
            "Python 3.11.13\n"
          ]
        }
      ],
      "source": [
        "!python --version"
      ]
    },
    {
      "cell_type": "markdown",
      "source": [
        "## Mounting your GDrive:\n",
        "\n",
        "- A separate windown opens up, where you need to accept all permissions."
      ],
      "metadata": {
        "id": "In0s4ADOH58b"
      }
    },
    {
      "cell_type": "code",
      "source": [
        "from google.colab import drive\n",
        "drive.mount('/content/drive')"
      ],
      "metadata": {
        "colab": {
          "base_uri": "https://localhost:8080/"
        },
        "id": "dMwXnSEEH_g4",
        "outputId": "b247cd4c-556d-4c7f-a585-148ea6b9de2f"
      },
      "execution_count": 9,
      "outputs": [
        {
          "output_type": "stream",
          "name": "stdout",
          "text": [
            "Mounted at /content/drive\n"
          ]
        }
      ]
    },
    {
      "cell_type": "markdown",
      "source": [
        "## Web scrapping Files with ```wget```:"
      ],
      "metadata": {
        "id": "9rUM7UyvH0zM"
      }
    },
    {
      "cell_type": "code",
      "source": [
        "# Navigate to the working directory\n",
        "# % is to have a persistent location\n",
        "%cd /content/drive/MyDrive/ISYA 2025/"
      ],
      "metadata": {
        "colab": {
          "base_uri": "https://localhost:8080/"
        },
        "id": "F5Y9cPYWHsjA",
        "outputId": "d7a946a6-4869-4fb2-bbf2-9cb0d022fbee"
      },
      "execution_count": 11,
      "outputs": [
        {
          "output_type": "stream",
          "name": "stdout",
          "text": [
            "/content/drive/MyDrive/ISYA 2025\n"
          ]
        }
      ]
    },
    {
      "cell_type": "code",
      "source": [
        "# Create a directory\n",
        "!mkdir -p python_scripts\n",
        "\n",
        "# Change into the newly created or existing directory\n",
        "%cd python_scripts"
      ],
      "metadata": {
        "colab": {
          "base_uri": "https://localhost:8080/"
        },
        "id": "YhYH_XoxJ2RN",
        "outputId": "3be72f51-c266-492d-8c65-f4cb5d3a828a"
      },
      "execution_count": 12,
      "outputs": [
        {
          "output_type": "stream",
          "name": "stdout",
          "text": [
            "/content/drive/MyDrive/ISYA 2025/python_scripts\n"
          ]
        }
      ]
    },
    {
      "cell_type": "code",
      "source": [
        "# Download the script.py file using wget\n",
        "!wget https://raw.githubusercontent.com/Astronomia-Ecuador/ISYA2025/main/Python_for_Astrophysics/python_scripts/script.py"
      ],
      "metadata": {
        "colab": {
          "base_uri": "https://localhost:8080/"
        },
        "id": "WDjrX-OOJ84g",
        "outputId": "cc44da84-2f9b-41f3-e1b1-9d83f14389ab"
      },
      "execution_count": 13,
      "outputs": [
        {
          "output_type": "stream",
          "name": "stdout",
          "text": [
            "--2025-07-08 20:30:56--  https://raw.githubusercontent.com/Astronomia-Ecuador/ISYA2025/main/Python_for_Astrophysics/python_scripts/script.py\n",
            "Resolving raw.githubusercontent.com (raw.githubusercontent.com)... 185.199.108.133, 185.199.109.133, 185.199.110.133, ...\n",
            "Connecting to raw.githubusercontent.com (raw.githubusercontent.com)|185.199.108.133|:443... connected.\n",
            "HTTP request sent, awaiting response... 200 OK\n",
            "Length: 108 [text/plain]\n",
            "Saving to: ‘script.py’\n",
            "\n",
            "script.py           100%[===================>]     108  --.-KB/s    in 0s      \n",
            "\n",
            "2025-07-08 20:30:56 (772 KB/s) - ‘script.py’ saved [108/108]\n",
            "\n"
          ]
        }
      ]
    },
    {
      "cell_type": "code",
      "source": [
        "# Display content\n",
        "!cat script.py"
      ],
      "metadata": {
        "colab": {
          "base_uri": "https://localhost:8080/"
        },
        "id": "RIjQOZPdJK90",
        "outputId": "dee2e9b1-5ebe-420c-a03d-a9bcc528fd34"
      },
      "execution_count": 14,
      "outputs": [
        {
          "output_type": "stream",
          "name": "stdout",
          "text": [
            "print(\"Hello ISYA 2025!\")\n",
            "print(\"This is our first python script.\")\n",
            "print(\"We are testing Colab and wget.\")\n"
          ]
        }
      ]
    },
    {
      "cell_type": "markdown",
      "source": [
        "## Writing text files on Linux mode:"
      ],
      "metadata": {
        "id": "NAah5r_XJOc6"
      }
    },
    {
      "cell_type": "code",
      "source": [
        "# Create a file with content\n",
        "!echo \"Hello, greetings from Urcuqui!\" > file.txt\n",
        "!echo \"This is a Linux on Colab tutorial.\" >> file.txt # Append content"
      ],
      "metadata": {
        "id": "LrAN7oJOIW-M"
      },
      "execution_count": 15,
      "outputs": []
    },
    {
      "cell_type": "markdown",
      "source": [
        "### Looking into files:"
      ],
      "metadata": {
        "id": "D5bLkfVTLB7V"
      }
    },
    {
      "cell_type": "code",
      "source": [
        "# Display content\n",
        "!cat file.txt"
      ],
      "metadata": {
        "colab": {
          "base_uri": "https://localhost:8080/"
        },
        "id": "KP1cQ7e0JAQI",
        "outputId": "f6e1388b-e6fb-42a4-cd91-54b8e8ca71d7"
      },
      "execution_count": 16,
      "outputs": [
        {
          "output_type": "stream",
          "name": "stdout",
          "text": [
            "Hello, greetings from Urcuqui!\n",
            "This is a Linux on Colab tutorial.\n"
          ]
        }
      ]
    },
    {
      "cell_type": "code",
      "source": [
        "!head -n 1 file.txt\n",
        "!tail -n 1 file.txt"
      ],
      "metadata": {
        "colab": {
          "base_uri": "https://localhost:8080/"
        },
        "id": "VYsHmGqDLF8y",
        "outputId": "39d5d115-eb62-4203-824b-765a5d38e248"
      },
      "execution_count": 17,
      "outputs": [
        {
          "output_type": "stream",
          "name": "stdout",
          "text": [
            "Hello, greetings from Urcuqui!\n",
            "This is a Linux on Colab tutorial.\n"
          ]
        }
      ]
    },
    {
      "cell_type": "markdown",
      "source": [
        "## Creating directories and navigating:"
      ],
      "metadata": {
        "id": "OngqylscJpoo"
      }
    },
    {
      "cell_type": "code",
      "source": [
        "# Create an images directory\n",
        "!mkdir images\n",
        "\n",
        "# Change into it using a magic command (persists)\n",
        "%cd images\n",
        "!pwd"
      ],
      "metadata": {
        "colab": {
          "base_uri": "https://localhost:8080/"
        },
        "id": "ZsEi4n67JJXH",
        "outputId": "36f143f0-82f4-4b21-d2eb-4ecb6abd1d1c"
      },
      "execution_count": 18,
      "outputs": [
        {
          "output_type": "stream",
          "name": "stdout",
          "text": [
            "/content/drive/MyDrive/ISYA 2025/python_scripts/images\n",
            "/content/drive/MyDrive/ISYA 2025/python_scripts/images\n"
          ]
        }
      ]
    },
    {
      "cell_type": "code",
      "source": [
        "# Go back up one level\n",
        "%cd ..\n",
        "!pwd"
      ],
      "metadata": {
        "colab": {
          "base_uri": "https://localhost:8080/"
        },
        "id": "iEgUovN1K703",
        "outputId": "fdb9e947-51cc-44ea-8a78-5fa8b2355e83"
      },
      "execution_count": 19,
      "outputs": [
        {
          "output_type": "stream",
          "name": "stdout",
          "text": [
            "/content/drive/MyDrive/ISYA 2025/python_scripts\n",
            "/content/drive/MyDrive/ISYA 2025/python_scripts\n"
          ]
        }
      ]
    },
    {
      "cell_type": "markdown",
      "source": [
        "### Nested directories"
      ],
      "metadata": {
        "id": "c3Ovqh8pK_AL"
      }
    },
    {
      "cell_type": "code",
      "source": [
        "!mkdir images/tmpdir"
      ],
      "metadata": {
        "id": "fj8LMPzIJvk5"
      },
      "execution_count": 20,
      "outputs": []
    },
    {
      "cell_type": "code",
      "source": [
        "!ls images/."
      ],
      "metadata": {
        "colab": {
          "base_uri": "https://localhost:8080/"
        },
        "id": "qiJf5lB6LL_l",
        "outputId": "4be3afcd-6f2d-4fbd-d49a-37f9dbd4ab1a"
      },
      "execution_count": 21,
      "outputs": [
        {
          "output_type": "stream",
          "name": "stdout",
          "text": [
            "tmpdir\n"
          ]
        }
      ]
    },
    {
      "cell_type": "markdown",
      "source": [
        "### Copying files:"
      ],
      "metadata": {
        "id": "GjHq6h4oKUrM"
      }
    },
    {
      "cell_type": "code",
      "source": [
        "!cp file.txt copy_of_my_file.txt\n",
        "\n",
        "!ls"
      ],
      "metadata": {
        "colab": {
          "base_uri": "https://localhost:8080/"
        },
        "id": "PkCUsCh4J7fs",
        "outputId": "fe8f7e23-d341-49aa-be1a-477b1c51a038"
      },
      "execution_count": 22,
      "outputs": [
        {
          "output_type": "stream",
          "name": "stdout",
          "text": [
            "copy_of_my_file.txt  file.txt  images  script.py\n"
          ]
        }
      ]
    },
    {
      "cell_type": "markdown",
      "source": [
        "### Removing directories/files wirh ```rm```:"
      ],
      "metadata": {
        "id": "xVrTSPgzKd0A"
      }
    },
    {
      "cell_type": "code",
      "source": [
        "!rm -rf images/tmpdir\n",
        "!ls"
      ],
      "metadata": {
        "colab": {
          "base_uri": "https://localhost:8080/"
        },
        "id": "zEw109mgKaeP",
        "outputId": "0833f3e9-1d26-4e00-bbea-51c6e2913428"
      },
      "execution_count": 23,
      "outputs": [
        {
          "output_type": "stream",
          "name": "stdout",
          "text": [
            "copy_of_my_file.txt  file.txt  images  script.py\n"
          ]
        }
      ]
    },
    {
      "cell_type": "markdown",
      "source": [
        "### Moving directories with ```mv```:"
      ],
      "metadata": {
        "id": "KxNLGQFvK2KZ"
      }
    },
    {
      "cell_type": "code",
      "source": [
        "!mv copy_of_my_file.txt copy_of_my_file2.txt\n",
        "!ls"
      ],
      "metadata": {
        "colab": {
          "base_uri": "https://localhost:8080/"
        },
        "id": "scPTVa2fKnc5",
        "outputId": "f2dce0c8-9752-4ef9-e152-7403b88b66cb"
      },
      "execution_count": 24,
      "outputs": [
        {
          "output_type": "stream",
          "name": "stdout",
          "text": [
            "copy_of_my_file2.txt  file.txt\timages\tscript.py\n"
          ]
        }
      ]
    },
    {
      "cell_type": "markdown",
      "source": [
        "## The top command\n",
        "\n",
        "This allows us to see who is running scripts/ jobs in the system and what kind of processes they are."
      ],
      "metadata": {
        "id": "mUpFsaYSLU7b"
      }
    },
    {
      "cell_type": "code",
      "source": [
        "!top -n 1 -b"
      ],
      "metadata": {
        "colab": {
          "base_uri": "https://localhost:8080/"
        },
        "id": "jhr6VCCdK8k5",
        "outputId": "42c9c40c-8c14-48af-d4d7-5b792f894282"
      },
      "execution_count": 25,
      "outputs": [
        {
          "output_type": "stream",
          "name": "stdout",
          "text": [
            "top - 20:39:27 up 18 min,  0 users,  load average: 0.53, 0.37, 0.29\n",
            "Tasks:  25 total,   1 running,  23 sleeping,   0 stopped,   1 zombie\n",
            "%Cpu(s): 32.3 us,  3.2 sy,  0.0 ni, 64.5 id,  0.0 wa,  0.0 hi,  0.0 si,  0.0 st\n",
            "MiB Mem :  12978.0 total,   9158.3 free,    820.9 used,   2998.7 buff/cache\n",
            "MiB Swap:      0.0 total,      0.0 free,      0.0 used.  11875.3 avail Mem \n",
            "\n",
            "    PID USER      PR  NI    VIRT    RES    SHR S  %CPU  %MEM     TIME+ COMMAND\n",
            "   1219 root      20   0 1675104 162980  41352 S  66.7   1.2   0:07.41 node\n",
            "     12 root      20   0 1237772  15036   9356 S   6.7   0.1   0:00.58 kernel_+\n",
            "    475 root      20   0 1189944 105076  26080 S   6.7   0.8   0:07.96 python3\n",
            "      1 root      20   0    1076      8      0 S   0.0   0.0   0:00.05 docker-+\n",
            "      7 root      20   0 1294928  64056  41508 S   0.0   0.5   0:01.95 node\n",
            "      9 root      20   0    7376   3428   3120 S   0.0   0.0   0:00.69 oom_mon+\n",
            "     11 root      20   0    7376   1824   1536 S   0.0   0.0   0:00.00 run.sh\n",
            "     41 root      20   0    5808   1044    952 S   0.0   0.0   0:00.08 tail\n",
            "     47 root      20   0    5808   1020    924 S   0.0   0.0   0:00.09 tail\n",
            "     69 root      20   0       0      0      0 Z   0.0   0.0   0:17.00 python3\n",
            "     70 root      20   0   77360  57596  19480 S   0.0   0.4   0:00.83 colab-f+\n",
            "     91 root      20   0  389188 135904  27164 S   0.0   1.0   0:06.27 jupyter+\n",
            "     92 root      20   0 1230488   9736   3696 S   0.0   0.1   0:00.95 dap_mul+\n",
            "    503 root      20   0  545012  20304   5704 S   0.0   0.2   0:02.39 python3\n",
            "   1213 root      20   0 1241608  18888  11644 S   0.0   0.1   0:00.22 languag+\n",
            "   1946 root      20   0    4500   1360   1080 S   0.0   0.0   0:00.00 bash\n",
            "   1947 root      20   0 2208880  38384  26688 S   0.0   0.3   0:00.21 drive\n",
            "   1948 root      20   0    3632   1644   1536 S   0.0   0.0   0:00.00 grep\n",
            "   2055 root      20   0 3695576  78828  46032 S   0.0   0.6   0:01.04 drive\n",
            "   2138 root      20   0    4364   3200   2956 S   0.0   0.0   0:00.00 bash\n",
            "   2139 root      20   0 1228576   3788   2828 S   0.0   0.0   0:00.02 directo+\n",
            "   2140 root      20   0    2824    996    912 S   0.0   0.0   0:00.04 tail\n",
            "   2141 root      20   0   20888  13052   6160 S   0.0   0.1   0:00.07 python3\n",
            "   4620 root      20   0    5776   1056    960 S   0.0   0.0   0:00.00 sleep\n",
            "   4621 root      20   0   10356   3380   3020 R   0.0   0.0   0:00.00 top\n"
          ]
        }
      ]
    },
    {
      "cell_type": "code",
      "source": [],
      "metadata": {
        "id": "txS3xxJWw8wA"
      },
      "execution_count": null,
      "outputs": []
    }
  ],
  "metadata": {
    "colab": {
      "provenance": [],
      "include_colab_link": true
    },
    "kernelspec": {
      "display_name": "Python 3",
      "name": "python3"
    },
    "language_info": {
      "name": "python"
    }
  },
  "nbformat": 4,
  "nbformat_minor": 0
}